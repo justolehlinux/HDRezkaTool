{
 "cells": [
  {
   "cell_type": "code",
   "execution_count": 1,
   "metadata": {},
   "outputs": [
    {
     "ename": "ImportError",
     "evalue": "attempted relative import with no known parent package",
     "output_type": "error",
     "traceback": [
      "\u001b[0;31m---------------------------------------------------------------------------\u001b[0m",
      "\u001b[0;31mImportError\u001b[0m                               Traceback (most recent call last)",
      "Cell \u001b[0;32mIn[1], line 3\u001b[0m\n\u001b[1;32m      1\u001b[0m \u001b[38;5;28;01mimport\u001b[39;00m \u001b[38;5;21;01msys\u001b[39;00m\n\u001b[1;32m      2\u001b[0m \u001b[38;5;28;01mimport\u001b[39;00m  \u001b[38;5;21;01mos\u001b[39;00m\n\u001b[0;32m----> 3\u001b[0m \u001b[38;5;28;01mfrom\u001b[39;00m \u001b[38;5;21;01m.\u001b[39;00m\u001b[38;5;21;01mrequest\u001b[39;00m \u001b[38;5;28;01mimport\u001b[39;00m Request\n\u001b[1;32m      4\u001b[0m \u001b[38;5;28;01mfrom\u001b[39;00m \u001b[38;5;21;01m.\u001b[39;00m\u001b[38;5;21;01mget_stream\u001b[39;00m \u001b[38;5;28;01mimport\u001b[39;00m GetStream\n\u001b[1;32m      5\u001b[0m \u001b[38;5;28;01mfrom\u001b[39;00m \u001b[38;5;21;01m.\u001b[39;00m\u001b[38;5;21;01mhistory\u001b[39;00m \u001b[38;5;28;01mimport\u001b[39;00m  History\n",
      "\u001b[0;31mImportError\u001b[0m: attempted relative import with no known parent package"
     ]
    }
   ],
   "source": [
    "import sys\n",
    "import  os\n",
    "from .request import Request\n",
    "from .get_stream import GetStream\n",
    "from .history import  History\n",
    "from tqdm import tqdm\n",
    "from concurrent.futures import ThreadPoolExecutor"
   ]
  },
  {
   "cell_type": "code",
   "execution_count": null,
   "metadata": {},
   "outputs": [],
   "source": [
    "def download_chunk(url, chunk_size=4096):\n",
    "    with Request().get(url, stream=True) as r:\n",
    "        chunk = r.iter_content(chunk_size=chunk_size)\n",
    "        return b\"\".join(chunk)"
   ]
  },
  {
   "cell_type": "code",
   "execution_count": null,
   "metadata": {},
   "outputs": [],
   "source": [
    "def download_file(url, file_path, num_threads=4):\n",
    "    with ThreadPoolExecutor(max_workers=num_threads) as executor:\n",
    "        response = Request().head(url)\n",
    "        total_size = int(response.headers.get('content-length', 0))\n",
    "\n",
    "        with open(file_path, \"wb\") as f:\n",
    "            futures = []\n",
    "            for i in range(0, total_size, chunk_size * num_threads):\n",
    "                futures.append(executor.submit(download_chunk, url, chunk_size))\n",
    "            for future in futures:\n",
    "                f.write(future.result())"
   ]
  },
  {
   "cell_type": "code",
   "execution_count": null,
   "metadata": {},
   "outputs": [],
   "source": [
    "def __download( download_data):\n",
    "    if download_data['stream_url']:\n",
    "        print (download_data['file_name'])\n",
    "        History().status = \"run\"\n",
    "        fullpath = os.path.join(os.path.curdir, download_data['file_name'])\n",
    "\n",
    "        with Request().get(download_data['stream_url'], stream=True) as r, open(fullpath, \"wb\") as f, tqdm(\n",
    "                unit=\"B\",\n",
    "                unit_scale=True,\n",
    "                unit_divisor=1024,\n",
    "                total=int(r.headers.get('content-length', 0)),\n",
    "                file=sys.stdout,\n",
    "                desc=download_data['file_name']\n",
    "        ) as progress:\n",
    "            for chunk in r.iter_content(chunk_size=4096):\n",
    "                if chunk:\n",
    "                    datasize = f.write(chunk)\n",
    "                    progress.update(datasize)\n",
    "        History().run_episode = History().run_episode + 1"
   ]
  }
 ],
 "metadata": {
  "kernelspec": {
   "display_name": "Python 3",
   "language": "python",
   "name": "python3"
  },
  "language_info": {
   "codemirror_mode": {
    "name": "ipython",
    "version": 3
   },
   "file_extension": ".py",
   "mimetype": "text/x-python",
   "name": "python",
   "nbconvert_exporter": "python",
   "pygments_lexer": "ipython3",
   "version": "3.10.12"
  }
 },
 "nbformat": 4,
 "nbformat_minor": 2
}
